{
 "cells": [
  {
   "cell_type": "code",
   "execution_count": 83,
   "metadata": {},
   "outputs": [],
   "source": [
    "import sys\n",
    "_ = !{sys.executable} -m pip install numpy pandas\n",
    "import numpy as np\n",
    "import pandas as pd"
   ]
  },
  {
   "cell_type": "code",
   "execution_count": 84,
   "metadata": {},
   "outputs": [
    {
     "name": "stdout",
     "output_type": "stream",
     "text": "The animals considered to be hungry...\n"
    },
    {
     "data": {
      "text/html": "<div>\n<style scoped>\n    .dataframe tbody tr th:only-of-type {\n        vertical-align: middle;\n    }\n\n    .dataframe tbody tr th {\n        vertical-align: top;\n    }\n\n    .dataframe thead th {\n        text-align: right;\n    }\n</style>\n<table border=\"1\" class=\"dataframe\">\n  <thead>\n    <tr style=\"text-align: right;\">\n      <th></th>\n      <th>animal</th>\n      <th>uniq_id</th>\n    </tr>\n  </thead>\n  <tbody>\n    <tr>\n      <th>1</th>\n      <td>elephant</td>\n      <td>1002</td>\n    </tr>\n    <tr>\n      <th>2</th>\n      <td>elephant</td>\n      <td>1003</td>\n    </tr>\n    <tr>\n      <th>16</th>\n      <td>lion</td>\n      <td>1017</td>\n    </tr>\n  </tbody>\n</table>\n</div>",
      "text/plain": "      animal  uniq_id\n1   elephant     1002\n2   elephant     1003\n16      lion     1017"
     },
     "execution_count": 84,
     "metadata": {},
     "output_type": "execute_result"
    }
   ],
   "source": [
    "zoo = pd.read_csv(\"zoo.csv\", delimiter = \",\")\n",
    "hungry = zoo[zoo.water_need > 500][[\"animal\", \"uniq_id\"]]\n",
    "print(\"The animals considered to be hungry...\")\n",
    "hungry"
   ]
  },
  {
   "cell_type": "code",
   "execution_count": 85,
   "metadata": {},
   "outputs": [
    {
     "name": "stdout",
     "output_type": "stream",
     "text": "The mean water need for the complete set of animals\n"
    },
    {
     "data": {
      "text/plain": "347.72727272727275"
     },
     "execution_count": 85,
     "metadata": {},
     "output_type": "execute_result"
    }
   ],
   "source": [
    "print(\"The mean water need for the complete set of animals\")\n",
    "zoo.mean(axis = 0).loc[\"water_need\"]"
   ]
  },
  {
   "cell_type": "code",
   "execution_count": 86,
   "metadata": {},
   "outputs": [
    {
     "name": "stdout",
     "output_type": "stream",
     "text": "The mean water need for the 'fat' animals\n"
    },
    {
     "data": {
      "text/plain": "583.3333333333334"
     },
     "execution_count": 86,
     "metadata": {},
     "output_type": "execute_result"
    }
   ],
   "source": [
    "print(\"The mean water need for the 'fat' animals\")\n",
    "zoo[zoo.water_need > 500].mean(axis = 0).loc[\"water_need\"]"
   ]
  }
 ],
 "metadata": {
  "kernelspec": {
   "display_name": "Python 3",
   "language": "python",
   "name": "python3"
  },
  "language_info": {
   "codemirror_mode": {
    "name": "ipython",
    "version": 3
   },
   "file_extension": ".py",
   "mimetype": "text/x-python",
   "name": "python",
   "nbconvert_exporter": "python",
   "pygments_lexer": "ipython3",
   "version": "3.6.7"
  }
 },
 "nbformat": 4,
 "nbformat_minor": 2
}