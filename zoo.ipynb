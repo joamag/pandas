{
 "cells": [
  {
   "cell_type": "code",
   "execution_count": 89,
   "metadata": {},
   "outputs": [],
   "source": [
    "import sys\n",
    "_ = !{sys.executable} -m pip install numpy pandas\n",
    "import numpy as np\n",
    "import pandas as pd"
   ]
  },
  {
   "cell_type": "code",
   "execution_count": 90,
   "metadata": {},
   "outputs": [
    {
     "name": "stdout",
     "output_type": "stream",
     "text": "The animals considered to be hungry...\n"
    },
    {
     "data": {
      "text/html": "<div>\n<style scoped>\n    .dataframe tbody tr th:only-of-type {\n        vertical-align: middle;\n    }\n\n    .dataframe tbody tr th {\n        vertical-align: top;\n    }\n\n    .dataframe thead th {\n        text-align: right;\n    }\n</style>\n<table border=\"1\" class=\"dataframe\">\n  <thead>\n    <tr style=\"text-align: right;\">\n      <th></th>\n      <th>animal</th>\n      <th>uniq_id</th>\n    </tr>\n  </thead>\n  <tbody>\n    <tr>\n      <th>1</th>\n      <td>elephant</td>\n      <td>1002</td>\n    </tr>\n    <tr>\n      <th>2</th>\n      <td>elephant</td>\n      <td>1003</td>\n    </tr>\n    <tr>\n      <th>16</th>\n      <td>lion</td>\n      <td>1017</td>\n    </tr>\n  </tbody>\n</table>\n</div>",
      "text/plain": "      animal  uniq_id\n1   elephant     1002\n2   elephant     1003\n16      lion     1017"
     },
     "execution_count": 90,
     "metadata": {},
     "output_type": "execute_result"
    }
   ],
   "source": [
    "zoo = pd.read_csv(\"https://raw.githubusercontent.com/joamag/pandas/master/zoo.csv\", delimiter = \",\")\n",
    "hungry = zoo[zoo.water_need > 500][[\"animal\", \"uniq_id\"]]\n",
    "print(\"The animals considered to be hungry...\")\n",
    "hungry"
   ]
  },
  {
   "cell_type": "code",
   "execution_count": 91,
   "metadata": {},
   "outputs": [
    {
     "name": "stdout",
     "output_type": "stream",
     "text": "The mean water need for the complete set of animals\n"
    },
    {
     "data": {
      "text/plain": "(347.72727272727275+0j)"
     },
     "execution_count": 91,
     "metadata": {},
     "output_type": "execute_result"
    }
   ],
   "source": [
    "print(\"The mean water need for the complete set of animals\")\n",
    "zoo.mean(axis = 0).loc[\"water_need\"]"
   ]
  },
  {
   "cell_type": "code",
   "execution_count": 92,
   "metadata": {},
   "outputs": [
    {
     "name": "stdout",
     "output_type": "stream",
     "text": "The mean water need for the 'fat' animals\n"
    },
    {
     "data": {
      "text/plain": "583.3333333333334"
     },
     "execution_count": 92,
     "metadata": {},
     "output_type": "execute_result"
    }
   ],
   "source": [
    "print(\"The mean water need for the 'fat' animals\")\n",
    "zoo[zoo.water_need > 500].mean(axis = 0).loc[\"water_need\"]"
   ]
  },
  {
   "cell_type": "code",
   "execution_count": 93,
   "metadata": {},
   "outputs": [
    {
     "name": "stdout",
     "output_type": "stream",
     "text": "Animals sorted by the water needed\n"
    },
    {
     "data": {
      "text/html": "<div>\n<style scoped>\n    .dataframe tbody tr th:only-of-type {\n        vertical-align: middle;\n    }\n\n    .dataframe tbody tr th {\n        vertical-align: top;\n    }\n\n    .dataframe thead th {\n        text-align: right;\n    }\n</style>\n<table border=\"1\" class=\"dataframe\">\n  <thead>\n    <tr style=\"text-align: right;\">\n      <th></th>\n      <th>animal</th>\n      <th>uniq_id</th>\n      <th>water_need</th>\n    </tr>\n  </thead>\n  <tbody>\n    <tr>\n      <th>14</th>\n      <td>zebra</td>\n      <td>1015</td>\n      <td>80</td>\n    </tr>\n    <tr>\n      <th>13</th>\n      <td>zebra</td>\n      <td>1014</td>\n      <td>100</td>\n    </tr>\n    <tr>\n      <th>8</th>\n      <td>zebra</td>\n      <td>1009</td>\n      <td>200</td>\n    </tr>\n    <tr>\n      <th>9</th>\n      <td>zebra</td>\n      <td>1010</td>\n      <td>220</td>\n    </tr>\n    <tr>\n      <th>12</th>\n      <td>zebra</td>\n      <td>1013</td>\n      <td>220</td>\n    </tr>\n    <tr>\n      <th>11</th>\n      <td>zebra</td>\n      <td>1012</td>\n      <td>230</td>\n    </tr>\n    <tr>\n      <th>10</th>\n      <td>zebra</td>\n      <td>1011</td>\n      <td>240</td>\n    </tr>\n    <tr>\n      <th>6</th>\n      <td>tiger</td>\n      <td>1007</td>\n      <td>290</td>\n    </tr>\n    <tr>\n      <th>3</th>\n      <td>tiger</td>\n      <td>1004</td>\n      <td>300</td>\n    </tr>\n    <tr>\n      <th>7</th>\n      <td>tiger</td>\n      <td>1008</td>\n      <td>310</td>\n    </tr>\n    <tr>\n      <th>4</th>\n      <td>tiger</td>\n      <td>1005</td>\n      <td>320</td>\n    </tr>\n    <tr>\n      <th>5</th>\n      <td>tiger</td>\n      <td>1006</td>\n      <td>330</td>\n    </tr>\n    <tr>\n      <th>18</th>\n      <td>lion</td>\n      <td>1019</td>\n      <td>390</td>\n    </tr>\n    <tr>\n      <th>19</th>\n      <td>kangaroo</td>\n      <td>1020</td>\n      <td>410</td>\n    </tr>\n    <tr>\n      <th>21</th>\n      <td>kangaroo</td>\n      <td>1022</td>\n      <td>410</td>\n    </tr>\n    <tr>\n      <th>15</th>\n      <td>lion</td>\n      <td>1016</td>\n      <td>420</td>\n    </tr>\n    <tr>\n      <th>20</th>\n      <td>kangaroo</td>\n      <td>1021</td>\n      <td>430</td>\n    </tr>\n    <tr>\n      <th>17</th>\n      <td>lion</td>\n      <td>1018</td>\n      <td>500</td>\n    </tr>\n    <tr>\n      <th>0</th>\n      <td>elephant</td>\n      <td>1001</td>\n      <td>500</td>\n    </tr>\n    <tr>\n      <th>2</th>\n      <td>elephant</td>\n      <td>1003</td>\n      <td>550</td>\n    </tr>\n    <tr>\n      <th>16</th>\n      <td>lion</td>\n      <td>1017</td>\n      <td>600</td>\n    </tr>\n    <tr>\n      <th>1</th>\n      <td>elephant</td>\n      <td>1002</td>\n      <td>600</td>\n    </tr>\n  </tbody>\n</table>\n</div>",
      "text/plain": "      animal  uniq_id  water_need\n14     zebra     1015          80\n13     zebra     1014         100\n8      zebra     1009         200\n9      zebra     1010         220\n12     zebra     1013         220\n11     zebra     1012         230\n10     zebra     1011         240\n6      tiger     1007         290\n3      tiger     1004         300\n7      tiger     1008         310\n4      tiger     1005         320\n5      tiger     1006         330\n18      lion     1019         390\n19  kangaroo     1020         410\n21  kangaroo     1022         410\n15      lion     1016         420\n20  kangaroo     1021         430\n17      lion     1018         500\n0   elephant     1001         500\n2   elephant     1003         550\n16      lion     1017         600\n1   elephant     1002         600"
     },
     "execution_count": 93,
     "metadata": {},
     "output_type": "execute_result"
    }
   ],
   "source": [
    "print(\"Animals sorted by the water needed\")\n",
    "zoo.sort_values(by = [\"water_need\"])"
   ]
  }
 ],
 "metadata": {
  "kernelspec": {
   "display_name": "Python 3",
   "language": "python",
   "name": "python3"
  },
  "language_info": {
   "codemirror_mode": {
    "name": "ipython",
    "version": 3
   },
   "file_extension": ".py",
   "mimetype": "text/x-python",
   "name": "python",
   "nbconvert_exporter": "python",
   "pygments_lexer": "ipython3",
   "version": "3.6.7"
  }
 },
 "nbformat": 4,
 "nbformat_minor": 2
}