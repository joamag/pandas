{
 "nbformat": 4,
 "nbformat_minor": 2,
 "metadata": {
  "language_info": {
   "name": "python",
   "codemirror_mode": {
    "name": "ipython",
    "version": 3
   }
  },
  "orig_nbformat": 2,
  "file_extension": ".py",
  "mimetype": "text/x-python",
  "name": "python",
  "npconvert_exporter": "python",
  "pygments_lexer": "ipython3",
  "version": 3
 },
 "cells": [
  {
   "cell_type": "code",
   "execution_count": 29,
   "metadata": {},
   "outputs": [],
   "source": [
    "import sys\n",
    "_ = !{sys.executable} -m pip install numpy pandas\n",
    "import numpy as np\n",
    "import pandas as pd\n",
    "TOKEN = \"YOR_OWN_TOKEN\""
   ]
  },
  {
   "cell_type": "code",
   "execution_count": 30,
   "metadata": {},
   "outputs": [],
   "source": [
    "sale_lines = pd.read_csv(\"https://hive.frontdoorhd.com/sam/reports/sale_lines.csv?options=show&start=1&end=2575158400&sid=%s\" % TOKEN, delimiter = \";\", encoding = \"Cp1252\")"
   ]
  },
  {
   "cell_type": "code",
   "execution_count": 35,
   "metadata": {},
   "outputs": [
    {
     "name": "stdout",
     "output_type": "stream",
     "text": "Sales by customer\n"
    },
    {
     "data": {
      "text/html": "<div>\n<style scoped>\n    .dataframe tbody tr th:only-of-type {\n        vertical-align: middle;\n    }\n\n    .dataframe tbody tr th {\n        vertical-align: top;\n    }\n\n    .dataframe thead th {\n        text-align: right;\n    }\n</style>\n<table border=\"1\" class=\"dataframe\">\n  <thead>\n    <tr style=\"text-align: right;\">\n      <th>year_s</th>\n      <th>2015</th>\n      <th>2016</th>\n      <th>2017</th>\n      <th>2018</th>\n      <th>2019</th>\n      <th>All</th>\n    </tr>\n    <tr>\n      <th>customer.name</th>\n      <th></th>\n      <th></th>\n      <th></th>\n      <th></th>\n      <th></th>\n      <th></th>\n    </tr>\n  </thead>\n  <tbody>\n    <tr>\n      <th>Lugar das Jóias - Ourivesaria, Lda.</th>\n      <td>3321.00</td>\n      <td>9163.50</td>\n      <td>0.00</td>\n      <td>0</td>\n      <td>0</td>\n      <td>12484.50</td>\n    </tr>\n    <tr>\n      <th>Microsoft Corporation</th>\n      <td>0.00</td>\n      <td>42650.10</td>\n      <td>7052.15</td>\n      <td>0</td>\n      <td>0</td>\n      <td>49702.25</td>\n    </tr>\n    <tr>\n      <th>Platforme International Limited</th>\n      <td>0.00</td>\n      <td>28186.21</td>\n      <td>134575.30</td>\n      <td>67500</td>\n      <td>59840</td>\n      <td>290101.51</td>\n    </tr>\n    <tr>\n      <th>Ripe Productions Limited</th>\n      <td>0.00</td>\n      <td>49735.06</td>\n      <td>0.00</td>\n      <td>0</td>\n      <td>0</td>\n      <td>49735.06</td>\n    </tr>\n    <tr>\n      <th>Ripe Productions Limited - Sucursal em Portugal</th>\n      <td>122320.04</td>\n      <td>82674.45</td>\n      <td>0.00</td>\n      <td>0</td>\n      <td>0</td>\n      <td>204994.49</td>\n    </tr>\n    <tr>\n      <th>Rocksauce Studios LLC</th>\n      <td>75774.62</td>\n      <td>0.00</td>\n      <td>0.00</td>\n      <td>0</td>\n      <td>0</td>\n      <td>75774.62</td>\n    </tr>\n    <tr>\n      <th>Toptal, LLC</th>\n      <td>66272.23</td>\n      <td>0.00</td>\n      <td>0.00</td>\n      <td>0</td>\n      <td>0</td>\n      <td>66272.23</td>\n    </tr>\n    <tr>\n      <th>All</th>\n      <td>267687.89</td>\n      <td>212409.32</td>\n      <td>141627.45</td>\n      <td>67500</td>\n      <td>59840</td>\n      <td>749064.66</td>\n    </tr>\n  </tbody>\n</table>\n</div>",
      "text/plain": "year_s                                                2015       2016  \\\ncustomer.name                                                           \nLugar das Jóias - Ourivesaria, Lda.                3321.00    9163.50   \nMicrosoft Corporation                                 0.00   42650.10   \nPlatforme International Limited                       0.00   28186.21   \nRipe Productions Limited                              0.00   49735.06   \nRipe Productions Limited - Sucursal em Portugal  122320.04   82674.45   \nRocksauce Studios LLC                             75774.62       0.00   \nToptal, LLC                                       66272.23       0.00   \nAll                                              267687.89  212409.32   \n\nyear_s                                                2017   2018   2019  \\\ncustomer.name                                                              \nLugar das Jóias - Ourivesaria, Lda.                   0.00      0      0   \nMicrosoft Corporation                              7052.15      0      0   \nPlatforme International Limited                  134575.30  67500  59840   \nRipe Productions Limited                              0.00      0      0   \nRipe Productions Limited - Sucursal em Portugal       0.00      0      0   \nRocksauce Studios LLC                                 0.00      0      0   \nToptal, LLC                                           0.00      0      0   \nAll                                              141627.45  67500  59840   \n\nyear_s                                                 All  \ncustomer.name                                               \nLugar das Jóias - Ourivesaria, Lda.               12484.50  \nMicrosoft Corporation                             49702.25  \nPlatforme International Limited                  290101.51  \nRipe Productions Limited                          49735.06  \nRipe Productions Limited - Sucursal em Portugal  204994.49  \nRocksauce Studios LLC                             75774.62  \nToptal, LLC                                       66272.23  \nAll                                              749064.66  "
     },
     "execution_count": 35,
     "metadata": {},
     "output_type": "execute_result"
    }
   ],
   "source": [
    "print(\"Sales by customer\")\n",
    "pd.pivot_table(sale_lines, values = \"price_vat\", index = [\"customer.name\"], columns = [\"year_s\"], aggfunc = np.sum, fill_value = 0, margins = True)"
   ]
  }
 ]
}